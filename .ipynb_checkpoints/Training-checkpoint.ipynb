version https://git-lfs.github.com/spec/v1
oid sha256:7d9d30e29a2143ac672903a5a2efd3aed2fec00b0704ef7efa04f9133271e7b6
size 20267
